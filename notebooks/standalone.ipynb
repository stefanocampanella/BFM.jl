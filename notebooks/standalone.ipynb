{
 "cells": [
  {
   "cell_type": "code",
   "execution_count": 1,
   "id": "dd8bb0e6-b58d-4d20-9057-3356e1a078a8",
   "metadata": {
    "tags": []
   },
   "outputs": [],
   "source": [
    "import Pkg"
   ]
  },
  {
   "cell_type": "code",
   "execution_count": 2,
   "id": "5587c75e-966d-4325-adc4-c12bf76d07d9",
   "metadata": {
    "tags": []
   },
   "outputs": [
    {
     "name": "stderr",
     "output_type": "stream",
     "text": [
      "\u001b[32m\u001b[1m  Activating\u001b[22m\u001b[39m project at `~/Documents/Dev/BFM`\n"
     ]
    }
   ],
   "source": [
    "Pkg.activate(\"..\")"
   ]
  },
  {
   "cell_type": "code",
   "execution_count": 3,
   "id": "c9b46fdb-db39-4700-b33b-223bb85f2da7",
   "metadata": {
    "tags": []
   },
   "outputs": [],
   "source": [
    "import BFM"
   ]
  },
  {
   "cell_type": "code",
   "execution_count": 4,
   "id": "3c36db1d-5b92-468d-8781-b1630a8c483c",
   "metadata": {},
   "outputs": [
    {
     "name": "stderr",
     "output_type": "stream",
     "text": [
      "\u001b[32m\u001b[1m  Activating\u001b[22m\u001b[39m project at `~/Documents/Dev/BFM/notebooks`\n"
     ]
    }
   ],
   "source": [
    "Pkg.activate(\".\")"
   ]
  },
  {
   "cell_type": "code",
   "execution_count": 5,
   "id": "6beb7ccc-82db-48c6-806a-41e31cc72e30",
   "metadata": {
    "tags": []
   },
   "outputs": [],
   "source": [
    "using JLD2"
   ]
  },
  {
   "cell_type": "code",
   "execution_count": 6,
   "id": "80345d45-d246-42fc-a4cb-e358a9875885",
   "metadata": {
    "tags": []
   },
   "outputs": [],
   "source": [
    "cd(\"../data/ogs.pelagic\")"
   ]
  },
  {
   "cell_type": "code",
   "execution_count": 7,
   "id": "84760f98-2733-4cca-8530-1ad11c3ad29a",
   "metadata": {
    "tags": []
   },
   "outputs": [],
   "source": [
    "er = reshape(load(\"data.jld2\", \"er\"), 43, 10, 10, :);\n",
    "bathy = reshape(load(\"data.jld2\", \"mbathy\"), 10, 10);\n",
    "state = reshape(load(\"data.jld2\", \"d3state\"), 43, 10, 10, :);"
   ]
  },
  {
   "cell_type": "code",
   "execution_count": 8,
   "id": "988a750b-7649-4ac0-a5dc-e0525a288878",
   "metadata": {
    "tags": []
   },
   "outputs": [
    {
     "name": "stderr",
     "output_type": "stream",
     "text": [
      "    NO_BOXES_TOT        4300\n",
      "    NO_BOXES_X          10\n",
      "    NO_BOXES_Y          10\n",
      "    NO_BOXES_Z          43\n",
      "    NO_BOXES_XY         100\n",
      "    allocating NO_BOXES_XY\n",
      "    NO_STATES      219300\n",
      "    NO_D3_BOX_STATES          51\n",
      "    -=-=-=-=-=-=-=-=-=-=-=-=-=-=-=-=-=-=-=-=-=-=-=-\n",
      "     BIOGEOCHEMICAL FLUX MODEL (BFM) ACTIVITY LOG  \n",
      "    -=-=-=-=-=-=-=-=-=-=-=-=-=-=-=-=-=-=-=-=-=-=-=-\n",
      "                   BFM System Team                 \n",
      "     \n",
      "     \n",
      "    Step 1 - INITIALIZATION (init_bfm)\n",
      "     \n",
      "     \n",
      "        EXPERIMENT NAME : BFM_standalone_pelagic\n",
      "     \n",
      "        EXPERIMENT SETUP :\n",
      "        Using only Pelagic component (bio_setup=1)\n",
      "            pelagic variables =          51\n",
      "            pelagic transported variables =\n",
      "            pelagic diagnostic variables =         103\n",
      "        Dimensional informations:\n",
      "            NO_BOXES_X  =          10\n",
      "            NO_BOXES_Y  =          10\n",
      "            NO_BOXES_Z  =          43\n",
      "            NO_BOXES    =        4300\n",
      "            NO_BOXES_XY =         100\n",
      "            NO_STATES   =      219300\n",
      "        Dimensional benthic informations:\n",
      "            NO_BOXES_Z_BEN =           0\n",
      "            NO_BOXES_BEN   =           0\n",
      "            NO_STATES_BEN  =           0\n",
      "     \n",
      "        EXPERIMENT INITIALIZATION :\n",
      "        Initial conditions from user setting (bfm_init=0)\n",
      "     \n",
      "        EXPERIMENT TIME SETTINGS :\n",
      "         Start Date (yyyymmdd)  : \u0000\u0000\u0000\u0000\u0000\u0000\u0000\u0000\u0000\u0000\u0000\u0000\u0000\u0000\u0000\u0000\u0000\u0000\u0000\u0000\u0000\u0000\u0000\u0000\u0000\n",
      "         End Date   (yyyymmdd)  : \u0000\u0000\u0000\u0000\u0000\u0000\u0000\u0000\u0000\u0000\u0000\u0000\u0000\u0000\u0000\u0000\u0000\u0000\u0000\u0000\u0000\u0000\u0000\u0000\u0000\n",
      "         Initial step           :            0\n",
      "         Final step             :            0\n",
      "         Timestep (seconds)     :            0\n",
      "         \n",
      "        OUTPUT SETTINGS \n",
      "            Output DATA filename is: BFM_standalone_pelagic\n",
      "             \n",
      "            RESTART filename prefix is: out_bfm_restart\n",
      "            Restart file(s) saved at the end of this experiment.\n",
      "     \n",
      "     -=-=-=-=-=-=-=-=-=-=-=-=-=-=-=-=-=-=-=-=-=-=-=- \n",
      "     \n",
      "    #-=-=-=-=-=-=-=-=-=-=-=-=-=-=-=-=-==-\n",
      "    # Allocating State Variables and Rates array ...\n",
      "    #-=-=-=-=-=-=-=-=-=-=-=-=-=-=-=-=-==-\n",
      "    # Allocating Other Global Variables ..\n",
      "    #-=-=-=-=-=-=-=-=-=-=-=-=-=-=-=-=-==-\n",
      "    # Allocating Fluxes ..\n",
      "    #-=-=-=-=-=-=-=-=-=-=-=-=-=-=-=-=-=-=-=-=-=-=-=-=-=-=-=-\n",
      "    #  Reading BFM parameters ..\n",
      "    #-=-=-=-=-=-=-=-=-=-=-=-=-=-=-=-=-=-=-=-=-=-=-=-=-=-=-=-\n",
      "    #  Reading PelChem parameters..\n",
      "    #  Namelist is:\n",
      "     Disable O4n transport as it used only for mass balance\n",
      "    #-=-=-=-=-=-=-=-=-=-=-=-=-=-=-=-=-=-=-=-=-=-=-=-=-=-=-=-\n",
      "    #  Reading PelBac parameters..\n",
      "    #  Checking PelBacteria parameters for group:           1\n",
      "    #   Use formulation (p_version) ->            2\n",
      "    #   forcing p_suR3=0\n",
      "     Active R2c & R3c transport\n",
      "    \n",
      "    #  Namelist is:\n",
      "    #-=-=-=-=-=-=-=-=-=-=-=-=-=-=-=-=-=-=-=-=-=-=-=-=-=-=-=-\n",
      "    #  Reading MesoZoo parameters..\n",
      "    #  Namelist is:\n",
      "    #-=-=-=-=-=-=-=-=-=-=-=-=-=-=-=-=-=-=-=-=-=-=-=-=-=-=-=-\n",
      "    #  Reading MicroZoo parameters..\n",
      "    #  Namelist is:\n",
      "    #-=-=-=-=-=-=-=-=-=-=-=-=-=-=-=-=-=-=-=-=-=-=-=-=-=-=-=-\n",
      "    #  Reading Phyto parameters..\n",
      "    #  Checking Phyto parameters for group:           1\n",
      "    #  Balanced growth is activated: p_netgrowth= T\n",
      "    #  forcing p_switchDOC = 2\n",
      "    #  OK\n",
      "    #  Checking Phyto parameters for group:           2\n",
      "    #  Balanced growth is activated: p_netgrowth= T\n",
      "    #  forcing p_switchDOC = 2\n",
      "    #  OK\n",
      "    #  Checking Phyto parameters for group:           3\n",
      "    #  Balanced growth is activated: p_netgrowth= T\n",
      "    #  forcing p_switchDOC = 2\n",
      "    #  OK\n",
      "    #  Checking Phyto parameters for group:           4\n",
      "    #  Balanced growth is activated: p_netgrowth= T\n",
      "    #  forcing p_switchDOC = 2\n",
      "    #  OK\n",
      "    #  Namelist is:\n",
      "    #-=-=-=-=-=-=-=-=-=-=-=-=-=-=-=-=-=-=-=-=-=-=-=-=-=-=-=-\n",
      "    #  Reading PAR parameters..\n",
      "    #  Namelist is:\n",
      "    #  PAR specifications:\n",
      "    #  Chl Attenuation Flag p_ChlAttenFlag =           1\n",
      "    #   Linear Chl-Specific attenuation coefficient\n",
      "    #-=-=-=-=-=-=-=-=-=-=-=-=-=-=-=-=-=-=-=-=-=-=-=-=-=-=-=-\n",
      "    #  Reading Pelagic Sinking parameters..\n",
      "    #  Namelist is:\n",
      "    #-=-=-=-=-=-=-=-=-=-=-=-=-=-=-=-=-=-=-=-=-=-=-=-=-=-=-=-\n",
      "    #  Reading Pelagic Settling parameters..\n",
      "    #  Namelist is:\n",
      "    SINK setting of pelagic 3D STATES variables\n",
      "      ID   Variable   Group\n",
      "    \n",
      "    -=-=-=-=-=-=-=-=-=-=-=-=-=-=-=-=-=-=-=-=-=-=-=-\n",
      "     \n",
      "         INITIALIZE PELAGIC CARBONATE SYSTEM       \n",
      "     \n",
      "        Namelist content:\n",
      "     \n",
      "    FieldInit Warning CO2: Data will not be read, ONLY %fnow memory structure is allocated !\n",
      "    Using constant atmospheric CO2 concentration:   370.00000000000000     \n",
      "     \n",
      "    FieldInit Warning AtmSLP: Data will not be read, ONLY %fnow memory structure is allocated !\n",
      "    Using constant atmospheric SLP (see p_atm0 in BFM_General.nml):    1013.2500000000000     \n",
      "     \n",
      "     Model uses PH Total Scale \n",
      "    -=-=-=-=-=-=-=-=-=-=-=-=-=-=-=-=-=-=-=-=-=-=-=-\n",
      "     \n"
     ]
    }
   ],
   "source": [
    "BFM.initialize(10, 10, 43)"
   ]
  },
  {
   "cell_type": "code",
   "execution_count": 9,
   "id": "7144b88f-0283-4d67-aca3-7534a4f983dc",
   "metadata": {
    "tags": []
   },
   "outputs": [],
   "source": [
    "BFM.setbathimetry(bathy)"
   ]
  },
  {
   "cell_type": "code",
   "execution_count": 10,
   "id": "8335c28b-69e3-4fbe-80e9-ab0288c094e2",
   "metadata": {
    "tags": []
   },
   "outputs": [],
   "source": [
    "BFM.setenvironmentalfactors(er)"
   ]
  },
  {
   "cell_type": "code",
   "execution_count": 11,
   "id": "1fe83254-5358-49c0-9ca7-655c154c77ae",
   "metadata": {
    "tags": []
   },
   "outputs": [
    {
     "data": {
      "text/plain": [
       "rungekuttastep! (generic function with 1 method)"
      ]
     },
     "execution_count": 11,
     "metadata": {},
     "output_type": "execute_result"
    }
   ],
   "source": [
    "function rungekuttastep!(state, Δt)\n",
    "    k1 = BFM.run(state)\n",
    "    k2 = BFM.run(state + (Δt / 2) * k1)\n",
    "    k3 = BFM.run(state + (Δt / 2) * k2)\n",
    "    k4 = BFM.run(state + k3)\n",
    "    state .+= (Δt / 6) * (k1 + 2k2 + 2k3 + k4)\n",
    "end"
   ]
  },
  {
   "cell_type": "code",
   "execution_count": 12,
   "id": "7d3206b2-8453-4764-8e59-d28f9eac0d71",
   "metadata": {
    "tags": []
   },
   "outputs": [],
   "source": [
    "using Plots"
   ]
  },
  {
   "cell_type": "code",
   "execution_count": 13,
   "id": "96147e97-668a-4daf-a807-1efd22d54dad",
   "metadata": {
    "tags": []
   },
   "outputs": [
    {
     "data": {
      "image/svg+xml": [
       "<?xml version=\"1.0\" encoding=\"utf-8\"?>\n",
       "<svg xmlns=\"http://www.w3.org/2000/svg\" xmlns:xlink=\"http://www.w3.org/1999/xlink\" width=\"600\" height=\"400\" viewBox=\"0 0 2400 1600\">\n",
       "<defs>\n",
       "  <clipPath id=\"clip860\">\n",
       "    <rect x=\"0\" y=\"0\" width=\"2400\" height=\"1600\"/>\n",
       "  </clipPath>\n",
       "</defs>\n",
       "<path clip-path=\"url(#clip860)\" d=\"M0 1600 L2400 1600 L2400 0 L0 0  Z\" fill=\"#ffffff\" fill-rule=\"evenodd\" fill-opacity=\"1\"/>\n",
       "<defs>\n",
       "  <clipPath id=\"clip861\">\n",
       "    <rect x=\"480\" y=\"0\" width=\"1681\" height=\"1600\"/>\n",
       "  </clipPath>\n",
       "</defs>\n",
       "<path clip-path=\"url(#clip860)\" d=\"M169.121 1486.45 L2352.76 1486.45 L2352.76 47.2441 L169.121 47.2441  Z\" fill=\"#ffffff\" fill-rule=\"evenodd\" fill-opacity=\"1\"/>\n",
       "<defs>\n",
       "  <clipPath id=\"clip862\">\n",
       "    <rect x=\"169\" y=\"47\" width=\"2185\" height=\"1440\"/>\n",
       "  </clipPath>\n",
       "</defs>\n",
       "<polyline clip-path=\"url(#clip862)\" style=\"stroke:#000000; stroke-linecap:round; stroke-linejoin:round; stroke-width:2; stroke-opacity:0.1; fill:none\" points=\"181.874,1486.45 181.874,47.2441 \"/>\n",
       "<polyline clip-path=\"url(#clip862)\" style=\"stroke:#000000; stroke-linecap:round; stroke-linejoin:round; stroke-width:2; stroke-opacity:0.1; fill:none\" points=\"672.358,1486.45 672.358,47.2441 \"/>\n",
       "<polyline clip-path=\"url(#clip862)\" style=\"stroke:#000000; stroke-linecap:round; stroke-linejoin:round; stroke-width:2; stroke-opacity:0.1; fill:none\" points=\"1162.84,1486.45 1162.84,47.2441 \"/>\n",
       "<polyline clip-path=\"url(#clip862)\" style=\"stroke:#000000; stroke-linecap:round; stroke-linejoin:round; stroke-width:2; stroke-opacity:0.1; fill:none\" points=\"1653.33,1486.45 1653.33,47.2441 \"/>\n",
       "<polyline clip-path=\"url(#clip862)\" style=\"stroke:#000000; stroke-linecap:round; stroke-linejoin:round; stroke-width:2; stroke-opacity:0.1; fill:none\" points=\"2143.81,1486.45 2143.81,47.2441 \"/>\n",
       "<polyline clip-path=\"url(#clip860)\" style=\"stroke:#000000; stroke-linecap:round; stroke-linejoin:round; stroke-width:4; stroke-opacity:1; fill:none\" points=\"169.121,1486.45 2352.76,1486.45 \"/>\n",
       "<polyline clip-path=\"url(#clip860)\" style=\"stroke:#000000; stroke-linecap:round; stroke-linejoin:round; stroke-width:4; stroke-opacity:1; fill:none\" points=\"181.874,1486.45 181.874,1467.55 \"/>\n",
       "<polyline clip-path=\"url(#clip860)\" style=\"stroke:#000000; stroke-linecap:round; stroke-linejoin:round; stroke-width:4; stroke-opacity:1; fill:none\" points=\"672.358,1486.45 672.358,1467.55 \"/>\n",
       "<polyline clip-path=\"url(#clip860)\" style=\"stroke:#000000; stroke-linecap:round; stroke-linejoin:round; stroke-width:4; stroke-opacity:1; fill:none\" points=\"1162.84,1486.45 1162.84,1467.55 \"/>\n",
       "<polyline clip-path=\"url(#clip860)\" style=\"stroke:#000000; stroke-linecap:round; stroke-linejoin:round; stroke-width:4; stroke-opacity:1; fill:none\" points=\"1653.33,1486.45 1653.33,1467.55 \"/>\n",
       "<polyline clip-path=\"url(#clip860)\" style=\"stroke:#000000; stroke-linecap:round; stroke-linejoin:round; stroke-width:4; stroke-opacity:1; fill:none\" points=\"2143.81,1486.45 2143.81,1467.55 \"/>\n",
       "<path clip-path=\"url(#clip860)\" d=\"M181.874 1517.37 Q178.263 1517.37 176.434 1520.93 Q174.629 1524.47 174.629 1531.6 Q174.629 1538.71 176.434 1542.27 Q178.263 1545.82 181.874 1545.82 Q185.508 1545.82 187.314 1542.27 Q189.142 1538.71 189.142 1531.6 Q189.142 1524.47 187.314 1520.93 Q185.508 1517.37 181.874 1517.37 M181.874 1513.66 Q187.684 1513.66 190.74 1518.27 Q193.818 1522.85 193.818 1531.6 Q193.818 1540.33 190.74 1544.94 Q187.684 1549.52 181.874 1549.52 Q176.064 1549.52 172.985 1544.94 Q169.93 1540.33 169.93 1531.6 Q169.93 1522.85 172.985 1518.27 Q176.064 1513.66 181.874 1513.66 Z\" fill=\"#000000\" fill-rule=\"nonzero\" fill-opacity=\"1\" /><path clip-path=\"url(#clip860)\" d=\"M647.045 1544.91 L654.684 1544.91 L654.684 1518.55 L646.374 1520.21 L646.374 1515.95 L654.638 1514.29 L659.314 1514.29 L659.314 1544.91 L666.953 1544.91 L666.953 1548.85 L647.045 1548.85 L647.045 1544.91 Z\" fill=\"#000000\" fill-rule=\"nonzero\" fill-opacity=\"1\" /><path clip-path=\"url(#clip860)\" d=\"M686.397 1517.37 Q682.786 1517.37 680.957 1520.93 Q679.152 1524.47 679.152 1531.6 Q679.152 1538.71 680.957 1542.27 Q682.786 1545.82 686.397 1545.82 Q690.031 1545.82 691.837 1542.27 Q693.666 1538.71 693.666 1531.6 Q693.666 1524.47 691.837 1520.93 Q690.031 1517.37 686.397 1517.37 M686.397 1513.66 Q692.207 1513.66 695.263 1518.27 Q698.342 1522.85 698.342 1531.6 Q698.342 1540.33 695.263 1544.94 Q692.207 1549.52 686.397 1549.52 Q680.587 1549.52 677.508 1544.94 Q674.453 1540.33 674.453 1531.6 Q674.453 1522.85 677.508 1518.27 Q680.587 1513.66 686.397 1513.66 Z\" fill=\"#000000\" fill-rule=\"nonzero\" fill-opacity=\"1\" /><path clip-path=\"url(#clip860)\" d=\"M1141.62 1544.91 L1157.93 1544.91 L1157.93 1548.85 L1135.99 1548.85 L1135.99 1544.91 Q1138.65 1542.16 1143.24 1537.53 Q1147.84 1532.88 1149.02 1531.53 Q1151.27 1529.01 1152.15 1527.27 Q1153.05 1525.51 1153.05 1523.82 Q1153.05 1521.07 1151.11 1519.33 Q1149.18 1517.6 1146.08 1517.6 Q1143.88 1517.6 1141.43 1518.36 Q1139 1519.13 1136.22 1520.68 L1136.22 1515.95 Q1139.05 1514.82 1141.5 1514.24 Q1143.95 1513.66 1145.99 1513.66 Q1151.36 1513.66 1154.55 1516.35 Q1157.75 1519.03 1157.75 1523.52 Q1157.75 1525.65 1156.94 1527.57 Q1156.15 1529.47 1154.05 1532.07 Q1153.47 1532.74 1150.37 1535.95 Q1147.26 1539.15 1141.62 1544.91 Z\" fill=\"#000000\" fill-rule=\"nonzero\" fill-opacity=\"1\" /><path clip-path=\"url(#clip860)\" d=\"M1177.75 1517.37 Q1174.14 1517.37 1172.31 1520.93 Q1170.5 1524.47 1170.5 1531.6 Q1170.5 1538.71 1172.31 1542.27 Q1174.14 1545.82 1177.75 1545.82 Q1181.38 1545.82 1183.19 1542.27 Q1185.02 1538.71 1185.02 1531.6 Q1185.02 1524.47 1183.19 1520.93 Q1181.38 1517.37 1177.75 1517.37 M1177.75 1513.66 Q1183.56 1513.66 1186.61 1518.27 Q1189.69 1522.85 1189.69 1531.6 Q1189.69 1540.33 1186.61 1544.94 Q1183.56 1549.52 1177.75 1549.52 Q1171.94 1549.52 1168.86 1544.94 Q1165.8 1540.33 1165.8 1531.6 Q1165.8 1522.85 1168.86 1518.27 Q1171.94 1513.66 1177.75 1513.66 Z\" fill=\"#000000\" fill-rule=\"nonzero\" fill-opacity=\"1\" /><path clip-path=\"url(#clip860)\" d=\"M1642.17 1530.21 Q1645.52 1530.93 1647.4 1533.2 Q1649.3 1535.47 1649.3 1538.8 Q1649.3 1543.92 1645.78 1546.72 Q1642.26 1549.52 1635.78 1549.52 Q1633.6 1549.52 1631.29 1549.08 Q1629 1548.66 1626.54 1547.81 L1626.54 1543.29 Q1628.49 1544.43 1630.8 1545.01 Q1633.12 1545.58 1635.64 1545.58 Q1640.04 1545.58 1642.33 1543.85 Q1644.65 1542.11 1644.65 1538.8 Q1644.65 1535.75 1642.49 1534.03 Q1640.36 1532.3 1636.54 1532.3 L1632.52 1532.3 L1632.52 1528.45 L1636.73 1528.45 Q1640.18 1528.45 1642.01 1527.09 Q1643.84 1525.7 1643.84 1523.11 Q1643.84 1520.45 1641.94 1519.03 Q1640.06 1517.6 1636.54 1517.6 Q1634.62 1517.6 1632.42 1518.01 Q1630.22 1518.43 1627.59 1519.31 L1627.59 1515.14 Q1630.25 1514.4 1632.56 1514.03 Q1634.9 1513.66 1636.96 1513.66 Q1642.28 1513.66 1645.39 1516.09 Q1648.49 1518.5 1648.49 1522.62 Q1648.49 1525.49 1646.84 1527.48 Q1645.2 1529.45 1642.17 1530.21 Z\" fill=\"#000000\" fill-rule=\"nonzero\" fill-opacity=\"1\" /><path clip-path=\"url(#clip860)\" d=\"M1668.16 1517.37 Q1664.55 1517.37 1662.72 1520.93 Q1660.92 1524.47 1660.92 1531.6 Q1660.92 1538.71 1662.72 1542.27 Q1664.55 1545.82 1668.16 1545.82 Q1671.8 1545.82 1673.6 1542.27 Q1675.43 1538.71 1675.43 1531.6 Q1675.43 1524.47 1673.6 1520.93 Q1671.8 1517.37 1668.16 1517.37 M1668.16 1513.66 Q1673.97 1513.66 1677.03 1518.27 Q1680.11 1522.85 1680.11 1531.6 Q1680.11 1540.33 1677.03 1544.94 Q1673.97 1549.52 1668.16 1549.52 Q1662.35 1549.52 1659.27 1544.94 Q1656.22 1540.33 1656.22 1531.6 Q1656.22 1522.85 1659.27 1518.27 Q1662.35 1513.66 1668.16 1513.66 Z\" fill=\"#000000\" fill-rule=\"nonzero\" fill-opacity=\"1\" /><path clip-path=\"url(#clip860)\" d=\"M2131.98 1518.36 L2120.18 1536.81 L2131.98 1536.81 L2131.98 1518.36 M2130.75 1514.29 L2136.63 1514.29 L2136.63 1536.81 L2141.56 1536.81 L2141.56 1540.7 L2136.63 1540.7 L2136.63 1548.85 L2131.98 1548.85 L2131.98 1540.7 L2116.38 1540.7 L2116.38 1536.19 L2130.75 1514.29 Z\" fill=\"#000000\" fill-rule=\"nonzero\" fill-opacity=\"1\" /><path clip-path=\"url(#clip860)\" d=\"M2159.3 1517.37 Q2155.68 1517.37 2153.86 1520.93 Q2152.05 1524.47 2152.05 1531.6 Q2152.05 1538.71 2153.86 1542.27 Q2155.68 1545.82 2159.3 1545.82 Q2162.93 1545.82 2164.74 1542.27 Q2166.56 1538.71 2166.56 1531.6 Q2166.56 1524.47 2164.74 1520.93 Q2162.93 1517.37 2159.3 1517.37 M2159.3 1513.66 Q2165.11 1513.66 2168.16 1518.27 Q2171.24 1522.85 2171.24 1531.6 Q2171.24 1540.33 2168.16 1544.94 Q2165.11 1549.52 2159.3 1549.52 Q2153.49 1549.52 2150.41 1544.94 Q2147.35 1540.33 2147.35 1531.6 Q2147.35 1522.85 2150.41 1518.27 Q2153.49 1513.66 2159.3 1513.66 Z\" fill=\"#000000\" fill-rule=\"nonzero\" fill-opacity=\"1\" /><polyline clip-path=\"url(#clip862)\" style=\"stroke:#000000; stroke-linecap:round; stroke-linejoin:round; stroke-width:2; stroke-opacity:0.1; fill:none\" points=\"169.121,1452.91 2352.76,1452.91 \"/>\n",
       "<polyline clip-path=\"url(#clip862)\" style=\"stroke:#000000; stroke-linecap:round; stroke-linejoin:round; stroke-width:2; stroke-opacity:0.1; fill:none\" points=\"169.121,1093.27 2352.76,1093.27 \"/>\n",
       "<polyline clip-path=\"url(#clip862)\" style=\"stroke:#000000; stroke-linecap:round; stroke-linejoin:round; stroke-width:2; stroke-opacity:0.1; fill:none\" points=\"169.121,733.623 2352.76,733.623 \"/>\n",
       "<polyline clip-path=\"url(#clip862)\" style=\"stroke:#000000; stroke-linecap:round; stroke-linejoin:round; stroke-width:2; stroke-opacity:0.1; fill:none\" points=\"169.121,373.981 2352.76,373.981 \"/>\n",
       "<polyline clip-path=\"url(#clip860)\" style=\"stroke:#000000; stroke-linecap:round; stroke-linejoin:round; stroke-width:4; stroke-opacity:1; fill:none\" points=\"169.121,1486.45 169.121,47.2441 \"/>\n",
       "<polyline clip-path=\"url(#clip860)\" style=\"stroke:#000000; stroke-linecap:round; stroke-linejoin:round; stroke-width:4; stroke-opacity:1; fill:none\" points=\"169.121,1452.91 188.019,1452.91 \"/>\n",
       "<polyline clip-path=\"url(#clip860)\" style=\"stroke:#000000; stroke-linecap:round; stroke-linejoin:round; stroke-width:4; stroke-opacity:1; fill:none\" points=\"169.121,1093.27 188.019,1093.27 \"/>\n",
       "<polyline clip-path=\"url(#clip860)\" style=\"stroke:#000000; stroke-linecap:round; stroke-linejoin:round; stroke-width:4; stroke-opacity:1; fill:none\" points=\"169.121,733.623 188.019,733.623 \"/>\n",
       "<polyline clip-path=\"url(#clip860)\" style=\"stroke:#000000; stroke-linecap:round; stroke-linejoin:round; stroke-width:4; stroke-opacity:1; fill:none\" points=\"169.121,373.981 188.019,373.981 \"/>\n",
       "<path clip-path=\"url(#clip860)\" d=\"M121.177 1438.71 Q117.566 1438.71 115.737 1442.27 Q113.932 1445.81 113.932 1452.94 Q113.932 1460.05 115.737 1463.61 Q117.566 1467.16 121.177 1467.16 Q124.811 1467.16 126.617 1463.61 Q128.445 1460.05 128.445 1452.94 Q128.445 1445.81 126.617 1442.27 Q124.811 1438.71 121.177 1438.71 M121.177 1435 Q126.987 1435 130.043 1439.61 Q133.121 1444.19 133.121 1452.94 Q133.121 1461.67 130.043 1466.28 Q126.987 1470.86 121.177 1470.86 Q115.367 1470.86 112.288 1466.28 Q109.233 1461.67 109.233 1452.94 Q109.233 1444.19 112.288 1439.61 Q115.367 1435 121.177 1435 Z\" fill=\"#000000\" fill-rule=\"nonzero\" fill-opacity=\"1\" /><path clip-path=\"url(#clip860)\" d=\"M81.0614 1075.99 L99.4178 1075.99 L99.4178 1079.92 L85.3438 1079.92 L85.3438 1088.39 Q86.3623 1088.05 87.3808 1087.88 Q88.3993 1087.7 89.4178 1087.7 Q95.2049 1087.7 98.5845 1090.87 Q101.964 1094.04 101.964 1099.46 Q101.964 1105.04 98.4919 1108.14 Q95.0197 1111.22 88.7003 1111.22 Q86.5243 1111.22 84.2558 1110.85 Q82.0105 1110.48 79.6031 1109.74 L79.6031 1105.04 Q81.6864 1106.17 83.9086 1106.73 Q86.1308 1107.28 88.6077 1107.28 Q92.6123 1107.28 94.9502 1105.18 Q97.2882 1103.07 97.2882 1099.46 Q97.2882 1095.85 94.9502 1093.74 Q92.6123 1091.63 88.6077 1091.63 Q86.7327 1091.63 84.8577 1092.05 Q83.0058 1092.47 81.0614 1093.35 L81.0614 1075.99 Z\" fill=\"#000000\" fill-rule=\"nonzero\" fill-opacity=\"1\" /><path clip-path=\"url(#clip860)\" d=\"M121.177 1079.06 Q117.566 1079.06 115.737 1082.63 Q113.932 1086.17 113.932 1093.3 Q113.932 1100.41 115.737 1103.97 Q117.566 1107.51 121.177 1107.51 Q124.811 1107.51 126.617 1103.97 Q128.445 1100.41 128.445 1093.3 Q128.445 1086.17 126.617 1082.63 Q124.811 1079.06 121.177 1079.06 M121.177 1075.36 Q126.987 1075.36 130.043 1079.97 Q133.121 1084.55 133.121 1093.3 Q133.121 1102.03 130.043 1106.63 Q126.987 1111.22 121.177 1111.22 Q115.367 1111.22 112.288 1106.63 Q109.233 1102.03 109.233 1093.3 Q109.233 1084.55 112.288 1079.97 Q115.367 1075.36 121.177 1075.36 Z\" fill=\"#000000\" fill-rule=\"nonzero\" fill-opacity=\"1\" /><path clip-path=\"url(#clip860)\" d=\"M51.6634 746.968 L59.3023 746.968 L59.3023 720.603 L50.9921 722.269 L50.9921 718.01 L59.256 716.343 L63.9319 716.343 L63.9319 746.968 L71.5707 746.968 L71.5707 750.903 L51.6634 750.903 L51.6634 746.968 Z\" fill=\"#000000\" fill-rule=\"nonzero\" fill-opacity=\"1\" /><path clip-path=\"url(#clip860)\" d=\"M91.0151 719.422 Q87.404 719.422 85.5753 722.987 Q83.7697 726.528 83.7697 733.658 Q83.7697 740.764 85.5753 744.329 Q87.404 747.871 91.0151 747.871 Q94.6493 747.871 96.4548 744.329 Q98.2835 740.764 98.2835 733.658 Q98.2835 726.528 96.4548 722.987 Q94.6493 719.422 91.0151 719.422 M91.0151 715.718 Q96.8252 715.718 99.8808 720.325 Q102.959 724.908 102.959 733.658 Q102.959 742.385 99.8808 746.991 Q96.8252 751.575 91.0151 751.575 Q85.2049 751.575 82.1262 746.991 Q79.0707 742.385 79.0707 733.658 Q79.0707 724.908 82.1262 720.325 Q85.2049 715.718 91.0151 715.718 Z\" fill=\"#000000\" fill-rule=\"nonzero\" fill-opacity=\"1\" /><path clip-path=\"url(#clip860)\" d=\"M121.177 719.422 Q117.566 719.422 115.737 722.987 Q113.932 726.528 113.932 733.658 Q113.932 740.764 115.737 744.329 Q117.566 747.871 121.177 747.871 Q124.811 747.871 126.617 744.329 Q128.445 740.764 128.445 733.658 Q128.445 726.528 126.617 722.987 Q124.811 719.422 121.177 719.422 M121.177 715.718 Q126.987 715.718 130.043 720.325 Q133.121 724.908 133.121 733.658 Q133.121 742.385 130.043 746.991 Q126.987 751.575 121.177 751.575 Q115.367 751.575 112.288 746.991 Q109.233 742.385 109.233 733.658 Q109.233 724.908 112.288 720.325 Q115.367 715.718 121.177 715.718 Z\" fill=\"#000000\" fill-rule=\"nonzero\" fill-opacity=\"1\" /><path clip-path=\"url(#clip860)\" d=\"M51.6634 387.325 L59.3023 387.325 L59.3023 360.96 L50.9921 362.627 L50.9921 358.367 L59.256 356.701 L63.9319 356.701 L63.9319 387.325 L71.5707 387.325 L71.5707 391.261 L51.6634 391.261 L51.6634 387.325 Z\" fill=\"#000000\" fill-rule=\"nonzero\" fill-opacity=\"1\" /><path clip-path=\"url(#clip860)\" d=\"M81.0614 356.701 L99.4178 356.701 L99.4178 360.636 L85.3438 360.636 L85.3438 369.108 Q86.3623 368.761 87.3808 368.599 Q88.3993 368.414 89.4178 368.414 Q95.2049 368.414 98.5845 371.585 Q101.964 374.756 101.964 380.173 Q101.964 385.751 98.4919 388.853 Q95.0197 391.932 88.7003 391.932 Q86.5243 391.932 84.2558 391.562 Q82.0105 391.191 79.6031 390.45 L79.6031 385.751 Q81.6864 386.886 83.9086 387.441 Q86.1308 387.997 88.6077 387.997 Q92.6123 387.997 94.9502 385.89 Q97.2882 383.784 97.2882 380.173 Q97.2882 376.562 94.9502 374.455 Q92.6123 372.349 88.6077 372.349 Q86.7327 372.349 84.8577 372.765 Q83.0058 373.182 81.0614 374.062 L81.0614 356.701 Z\" fill=\"#000000\" fill-rule=\"nonzero\" fill-opacity=\"1\" /><path clip-path=\"url(#clip860)\" d=\"M121.177 359.779 Q117.566 359.779 115.737 363.344 Q113.932 366.886 113.932 374.015 Q113.932 381.122 115.737 384.687 Q117.566 388.228 121.177 388.228 Q124.811 388.228 126.617 384.687 Q128.445 381.122 128.445 374.015 Q128.445 366.886 126.617 363.344 Q124.811 359.779 121.177 359.779 M121.177 356.076 Q126.987 356.076 130.043 360.682 Q133.121 365.265 133.121 374.015 Q133.121 382.742 130.043 387.349 Q126.987 391.932 121.177 391.932 Q115.367 391.932 112.288 387.349 Q109.233 382.742 109.233 374.015 Q109.233 365.265 112.288 360.682 Q115.367 356.076 121.177 356.076 Z\" fill=\"#000000\" fill-rule=\"nonzero\" fill-opacity=\"1\" /><polyline clip-path=\"url(#clip862)\" style=\"stroke:#009af9; stroke-linecap:round; stroke-linejoin:round; stroke-width:4; stroke-opacity:1; fill:none\" points=\"230.922,87.9763 279.971,89.6821 329.019,93.554 378.067,99.9979 427.116,109.476 476.164,122.747 525.213,141.719 574.261,170.376 623.309,210.548 672.358,255.362 721.406,292.548 770.455,324.772 819.503,356.375 868.551,388.478 917.6,409.27 966.648,426.992 1015.7,438.452 1064.75,442.594 1113.79,438.96 1162.84,436.922 1211.89,440.591 1260.94,444.998 1309.99,435.312 1359.04,424.104 1408.08,405.728 1457.13,382.88 1506.18,368.486 1555.23,362.612 1604.28,354.288 1653.33,343.452 1702.37,339.096 1751.42,338.94 1800.47,343.788 1849.52,349.465 1898.57,352.521 1947.62,354.105 1996.66,353.99 2045.71,353.891 2094.76,353.807 2143.81,353.737 2192.86,353.677 2241.91,353.627 2290.95,1445.72 \"/>\n",
       "<path clip-path=\"url(#clip860)\" d=\"M241.909 1438.47 L512.703 1438.47 L512.703 1334.79 L241.909 1334.79  Z\" fill=\"#ffffff\" fill-rule=\"evenodd\" fill-opacity=\"1\"/>\n",
       "<polyline clip-path=\"url(#clip860)\" style=\"stroke:#000000; stroke-linecap:round; stroke-linejoin:round; stroke-width:4; stroke-opacity:1; fill:none\" points=\"241.909,1438.47 512.703,1438.47 512.703,1334.79 241.909,1334.79 241.909,1438.47 \"/>\n",
       "<polyline clip-path=\"url(#clip860)\" style=\"stroke:#009af9; stroke-linecap:round; stroke-linejoin:round; stroke-width:4; stroke-opacity:1; fill:none\" points=\"266.172,1386.63 411.747,1386.63 \"/>\n",
       "<path clip-path=\"url(#clip860)\" d=\"M449.853 1406.32 Q448.047 1410.95 446.334 1412.36 Q444.621 1413.78 441.751 1413.78 L438.348 1413.78 L438.348 1410.21 L440.848 1410.21 Q442.607 1410.21 443.579 1409.38 Q444.552 1408.54 445.732 1405.44 L446.496 1403.5 L436.01 1377.99 L440.524 1377.99 L448.626 1398.27 L456.727 1377.99 L461.241 1377.99 L449.853 1406.32 Z\" fill=\"#000000\" fill-rule=\"nonzero\" fill-opacity=\"1\" /><path clip-path=\"url(#clip860)\" d=\"M468.533 1399.98 L476.172 1399.98 L476.172 1373.61 L467.862 1375.28 L467.862 1371.02 L476.126 1369.35 L480.801 1369.35 L480.801 1399.98 L488.44 1399.98 L488.44 1403.91 L468.533 1403.91 L468.533 1399.98 Z\" fill=\"#000000\" fill-rule=\"nonzero\" fill-opacity=\"1\" /></svg>\n"
      ]
     },
     "execution_count": 13,
     "metadata": {},
     "output_type": "execute_result"
    }
   ],
   "source": [
    "plot(state[:, 5, 5, 1])"
   ]
  },
  {
   "cell_type": "code",
   "execution_count": 16,
   "id": "f4dab679-1679-4659-9925-2e64f5da1515",
   "metadata": {
    "tags": []
   },
   "outputs": [],
   "source": [
    "using Profile"
   ]
  },
  {
   "cell_type": "code",
   "execution_count": 17,
   "id": "49275594-8dc7-4eeb-bb2a-49f7524bb351",
   "metadata": {
    "tags": []
   },
   "outputs": [],
   "source": [
    "newstate = copy(state)\n",
    "@profile for _ = 1:100\n",
    "    rungekuttastep!(newstate, 1000.0)\n",
    "end"
   ]
  },
  {
   "cell_type": "code",
   "execution_count": 15,
   "id": "7a555534-77a8-4512-b511-957f965f4f9c",
   "metadata": {
    "tags": []
   },
   "outputs": [
    {
     "data": {
      "image/svg+xml": [
       "<?xml version=\"1.0\" encoding=\"utf-8\"?>\n",
       "<svg xmlns=\"http://www.w3.org/2000/svg\" xmlns:xlink=\"http://www.w3.org/1999/xlink\" width=\"600\" height=\"400\" viewBox=\"0 0 2400 1600\">\n",
       "<defs>\n",
       "  <clipPath id=\"clip900\">\n",
       "    <rect x=\"0\" y=\"0\" width=\"2400\" height=\"1600\"/>\n",
       "  </clipPath>\n",
       "</defs>\n",
       "<path clip-path=\"url(#clip900)\" d=\"M0 1600 L2400 1600 L2400 0 L0 0  Z\" fill=\"#ffffff\" fill-rule=\"evenodd\" fill-opacity=\"1\"/>\n",
       "<defs>\n",
       "  <clipPath id=\"clip901\">\n",
       "    <rect x=\"480\" y=\"0\" width=\"1681\" height=\"1600\"/>\n",
       "  </clipPath>\n",
       "</defs>\n",
       "<path clip-path=\"url(#clip900)\" d=\"M170.857 1486.45 L2352.76 1486.45 L2352.76 47.2441 L170.857 47.2441  Z\" fill=\"#ffffff\" fill-rule=\"evenodd\" fill-opacity=\"1\"/>\n",
       "<defs>\n",
       "  <clipPath id=\"clip902\">\n",
       "    <rect x=\"170\" y=\"47\" width=\"2183\" height=\"1440\"/>\n",
       "  </clipPath>\n",
       "</defs>\n",
       "<polyline clip-path=\"url(#clip902)\" style=\"stroke:#000000; stroke-linecap:round; stroke-linejoin:round; stroke-width:2; stroke-opacity:0.1; fill:none\" points=\"183.6,1486.45 183.6,47.2441 \"/>\n",
       "<polyline clip-path=\"url(#clip902)\" style=\"stroke:#000000; stroke-linecap:round; stroke-linejoin:round; stroke-width:2; stroke-opacity:0.1; fill:none\" points=\"673.694,1486.45 673.694,47.2441 \"/>\n",
       "<polyline clip-path=\"url(#clip902)\" style=\"stroke:#000000; stroke-linecap:round; stroke-linejoin:round; stroke-width:2; stroke-opacity:0.1; fill:none\" points=\"1163.79,1486.45 1163.79,47.2441 \"/>\n",
       "<polyline clip-path=\"url(#clip902)\" style=\"stroke:#000000; stroke-linecap:round; stroke-linejoin:round; stroke-width:2; stroke-opacity:0.1; fill:none\" points=\"1653.88,1486.45 1653.88,47.2441 \"/>\n",
       "<polyline clip-path=\"url(#clip902)\" style=\"stroke:#000000; stroke-linecap:round; stroke-linejoin:round; stroke-width:2; stroke-opacity:0.1; fill:none\" points=\"2143.98,1486.45 2143.98,47.2441 \"/>\n",
       "<polyline clip-path=\"url(#clip900)\" style=\"stroke:#000000; stroke-linecap:round; stroke-linejoin:round; stroke-width:4; stroke-opacity:1; fill:none\" points=\"170.857,1486.45 2352.76,1486.45 \"/>\n",
       "<polyline clip-path=\"url(#clip900)\" style=\"stroke:#000000; stroke-linecap:round; stroke-linejoin:round; stroke-width:4; stroke-opacity:1; fill:none\" points=\"183.6,1486.45 183.6,1467.55 \"/>\n",
       "<polyline clip-path=\"url(#clip900)\" style=\"stroke:#000000; stroke-linecap:round; stroke-linejoin:round; stroke-width:4; stroke-opacity:1; fill:none\" points=\"673.694,1486.45 673.694,1467.55 \"/>\n",
       "<polyline clip-path=\"url(#clip900)\" style=\"stroke:#000000; stroke-linecap:round; stroke-linejoin:round; stroke-width:4; stroke-opacity:1; fill:none\" points=\"1163.79,1486.45 1163.79,1467.55 \"/>\n",
       "<polyline clip-path=\"url(#clip900)\" style=\"stroke:#000000; stroke-linecap:round; stroke-linejoin:round; stroke-width:4; stroke-opacity:1; fill:none\" points=\"1653.88,1486.45 1653.88,1467.55 \"/>\n",
       "<polyline clip-path=\"url(#clip900)\" style=\"stroke:#000000; stroke-linecap:round; stroke-linejoin:round; stroke-width:4; stroke-opacity:1; fill:none\" points=\"2143.98,1486.45 2143.98,1467.55 \"/>\n",
       "<path clip-path=\"url(#clip900)\" d=\"M183.6 1517.37 Q179.989 1517.37 178.16 1520.93 Q176.355 1524.47 176.355 1531.6 Q176.355 1538.71 178.16 1542.27 Q179.989 1545.82 183.6 1545.82 Q187.234 1545.82 189.04 1542.27 Q190.868 1538.71 190.868 1531.6 Q190.868 1524.47 189.04 1520.93 Q187.234 1517.37 183.6 1517.37 M183.6 1513.66 Q189.41 1513.66 192.466 1518.27 Q195.544 1522.85 195.544 1531.6 Q195.544 1540.33 192.466 1544.94 Q189.41 1549.52 183.6 1549.52 Q177.79 1549.52 174.711 1544.94 Q171.655 1540.33 171.655 1531.6 Q171.655 1522.85 174.711 1518.27 Q177.79 1513.66 183.6 1513.66 Z\" fill=\"#000000\" fill-rule=\"nonzero\" fill-opacity=\"1\" /><path clip-path=\"url(#clip900)\" d=\"M648.381 1544.91 L656.02 1544.91 L656.02 1518.55 L647.71 1520.21 L647.71 1515.95 L655.974 1514.29 L660.65 1514.29 L660.65 1544.91 L668.289 1544.91 L668.289 1548.85 L648.381 1548.85 L648.381 1544.91 Z\" fill=\"#000000\" fill-rule=\"nonzero\" fill-opacity=\"1\" /><path clip-path=\"url(#clip900)\" d=\"M687.733 1517.37 Q684.122 1517.37 682.293 1520.93 Q680.488 1524.47 680.488 1531.6 Q680.488 1538.71 682.293 1542.27 Q684.122 1545.82 687.733 1545.82 Q691.367 1545.82 693.173 1542.27 Q695.002 1538.71 695.002 1531.6 Q695.002 1524.47 693.173 1520.93 Q691.367 1517.37 687.733 1517.37 M687.733 1513.66 Q693.543 1513.66 696.599 1518.27 Q699.678 1522.85 699.678 1531.6 Q699.678 1540.33 696.599 1544.94 Q693.543 1549.52 687.733 1549.52 Q681.923 1549.52 678.844 1544.94 Q675.789 1540.33 675.789 1531.6 Q675.789 1522.85 678.844 1518.27 Q681.923 1513.66 687.733 1513.66 Z\" fill=\"#000000\" fill-rule=\"nonzero\" fill-opacity=\"1\" /><path clip-path=\"url(#clip900)\" d=\"M1142.56 1544.91 L1158.88 1544.91 L1158.88 1548.85 L1136.94 1548.85 L1136.94 1544.91 Q1139.6 1542.16 1144.18 1537.53 Q1148.79 1532.88 1149.97 1531.53 Q1152.21 1529.01 1153.09 1527.27 Q1154 1525.51 1154 1523.82 Q1154 1521.07 1152.05 1519.33 Q1150.13 1517.6 1147.03 1517.6 Q1144.83 1517.6 1142.38 1518.36 Q1139.95 1519.13 1137.17 1520.68 L1137.17 1515.95 Q1139.99 1514.82 1142.45 1514.24 Q1144.9 1513.66 1146.94 1513.66 Q1152.31 1513.66 1155.5 1516.35 Q1158.7 1519.03 1158.7 1523.52 Q1158.7 1525.65 1157.89 1527.57 Q1157.1 1529.47 1154.99 1532.07 Q1154.41 1532.74 1151.31 1535.95 Q1148.21 1539.15 1142.56 1544.91 Z\" fill=\"#000000\" fill-rule=\"nonzero\" fill-opacity=\"1\" /><path clip-path=\"url(#clip900)\" d=\"M1178.7 1517.37 Q1175.08 1517.37 1173.26 1520.93 Q1171.45 1524.47 1171.45 1531.6 Q1171.45 1538.71 1173.26 1542.27 Q1175.08 1545.82 1178.7 1545.82 Q1182.33 1545.82 1184.13 1542.27 Q1185.96 1538.71 1185.96 1531.6 Q1185.96 1524.47 1184.13 1520.93 Q1182.33 1517.37 1178.7 1517.37 M1178.7 1513.66 Q1184.51 1513.66 1187.56 1518.27 Q1190.64 1522.85 1190.64 1531.6 Q1190.64 1540.33 1187.56 1544.94 Q1184.51 1549.52 1178.7 1549.52 Q1172.89 1549.52 1169.81 1544.94 Q1166.75 1540.33 1166.75 1531.6 Q1166.75 1522.85 1169.81 1518.27 Q1172.89 1513.66 1178.7 1513.66 Z\" fill=\"#000000\" fill-rule=\"nonzero\" fill-opacity=\"1\" /><path clip-path=\"url(#clip900)\" d=\"M1642.72 1530.21 Q1646.08 1530.93 1647.96 1533.2 Q1649.85 1535.47 1649.85 1538.8 Q1649.85 1543.92 1646.34 1546.72 Q1642.82 1549.52 1636.34 1549.52 Q1634.16 1549.52 1631.84 1549.08 Q1629.55 1548.66 1627.1 1547.81 L1627.1 1543.29 Q1629.04 1544.43 1631.36 1545.01 Q1633.67 1545.58 1636.2 1545.58 Q1640.59 1545.58 1642.89 1543.85 Q1645.2 1542.11 1645.2 1538.8 Q1645.2 1535.75 1643.05 1534.03 Q1640.92 1532.3 1637.1 1532.3 L1633.07 1532.3 L1633.07 1528.45 L1637.28 1528.45 Q1640.73 1528.45 1642.56 1527.09 Q1644.39 1525.7 1644.39 1523.11 Q1644.39 1520.45 1642.49 1519.03 Q1640.62 1517.6 1637.1 1517.6 Q1635.18 1517.6 1632.98 1518.01 Q1630.78 1518.43 1628.14 1519.31 L1628.14 1515.14 Q1630.8 1514.4 1633.12 1514.03 Q1635.46 1513.66 1637.52 1513.66 Q1642.84 1513.66 1645.94 1516.09 Q1649.04 1518.5 1649.04 1522.62 Q1649.04 1525.49 1647.4 1527.48 Q1645.76 1529.45 1642.72 1530.21 Z\" fill=\"#000000\" fill-rule=\"nonzero\" fill-opacity=\"1\" /><path clip-path=\"url(#clip900)\" d=\"M1668.72 1517.37 Q1665.11 1517.37 1663.28 1520.93 Q1661.47 1524.47 1661.47 1531.6 Q1661.47 1538.71 1663.28 1542.27 Q1665.11 1545.82 1668.72 1545.82 Q1672.35 1545.82 1674.16 1542.27 Q1675.99 1538.71 1675.99 1531.6 Q1675.99 1524.47 1674.16 1520.93 Q1672.35 1517.37 1668.72 1517.37 M1668.72 1513.66 Q1674.53 1513.66 1677.59 1518.27 Q1680.66 1522.85 1680.66 1531.6 Q1680.66 1540.33 1677.59 1544.94 Q1674.53 1549.52 1668.72 1549.52 Q1662.91 1549.52 1659.83 1544.94 Q1656.78 1540.33 1656.78 1531.6 Q1656.78 1522.85 1659.83 1518.27 Q1662.91 1513.66 1668.72 1513.66 Z\" fill=\"#000000\" fill-rule=\"nonzero\" fill-opacity=\"1\" /><path clip-path=\"url(#clip900)\" d=\"M2132.15 1518.36 L2120.34 1536.81 L2132.15 1536.81 L2132.15 1518.36 M2130.92 1514.29 L2136.8 1514.29 L2136.8 1536.81 L2141.73 1536.81 L2141.73 1540.7 L2136.8 1540.7 L2136.8 1548.85 L2132.15 1548.85 L2132.15 1540.7 L2116.55 1540.7 L2116.55 1536.19 L2130.92 1514.29 Z\" fill=\"#000000\" fill-rule=\"nonzero\" fill-opacity=\"1\" /><path clip-path=\"url(#clip900)\" d=\"M2159.46 1517.37 Q2155.85 1517.37 2154.02 1520.93 Q2152.22 1524.47 2152.22 1531.6 Q2152.22 1538.71 2154.02 1542.27 Q2155.85 1545.82 2159.46 1545.82 Q2163.1 1545.82 2164.9 1542.27 Q2166.73 1538.71 2166.73 1531.6 Q2166.73 1524.47 2164.9 1520.93 Q2163.1 1517.37 2159.46 1517.37 M2159.46 1513.66 Q2165.27 1513.66 2168.33 1518.27 Q2171.41 1522.85 2171.41 1531.6 Q2171.41 1540.33 2168.33 1544.94 Q2165.27 1549.52 2159.46 1549.52 Q2153.65 1549.52 2150.57 1544.94 Q2147.52 1540.33 2147.52 1531.6 Q2147.52 1522.85 2150.57 1518.27 Q2153.65 1513.66 2159.46 1513.66 Z\" fill=\"#000000\" fill-rule=\"nonzero\" fill-opacity=\"1\" /><polyline clip-path=\"url(#clip902)\" style=\"stroke:#000000; stroke-linecap:round; stroke-linejoin:round; stroke-width:2; stroke-opacity:0.1; fill:none\" points=\"170.857,1452.64 2352.76,1452.64 \"/>\n",
       "<polyline clip-path=\"url(#clip902)\" style=\"stroke:#000000; stroke-linecap:round; stroke-linejoin:round; stroke-width:2; stroke-opacity:0.1; fill:none\" points=\"170.857,1124.56 2352.76,1124.56 \"/>\n",
       "<polyline clip-path=\"url(#clip902)\" style=\"stroke:#000000; stroke-linecap:round; stroke-linejoin:round; stroke-width:2; stroke-opacity:0.1; fill:none\" points=\"170.857,796.473 2352.76,796.473 \"/>\n",
       "<polyline clip-path=\"url(#clip902)\" style=\"stroke:#000000; stroke-linecap:round; stroke-linejoin:round; stroke-width:2; stroke-opacity:0.1; fill:none\" points=\"170.857,468.391 2352.76,468.391 \"/>\n",
       "<polyline clip-path=\"url(#clip902)\" style=\"stroke:#000000; stroke-linecap:round; stroke-linejoin:round; stroke-width:2; stroke-opacity:0.1; fill:none\" points=\"170.857,140.308 2352.76,140.308 \"/>\n",
       "<polyline clip-path=\"url(#clip900)\" style=\"stroke:#000000; stroke-linecap:round; stroke-linejoin:round; stroke-width:4; stroke-opacity:1; fill:none\" points=\"170.857,1486.45 170.857,47.2441 \"/>\n",
       "<polyline clip-path=\"url(#clip900)\" style=\"stroke:#000000; stroke-linecap:round; stroke-linejoin:round; stroke-width:4; stroke-opacity:1; fill:none\" points=\"170.857,1452.64 189.755,1452.64 \"/>\n",
       "<polyline clip-path=\"url(#clip900)\" style=\"stroke:#000000; stroke-linecap:round; stroke-linejoin:round; stroke-width:4; stroke-opacity:1; fill:none\" points=\"170.857,1124.56 189.755,1124.56 \"/>\n",
       "<polyline clip-path=\"url(#clip900)\" style=\"stroke:#000000; stroke-linecap:round; stroke-linejoin:round; stroke-width:4; stroke-opacity:1; fill:none\" points=\"170.857,796.473 189.755,796.473 \"/>\n",
       "<polyline clip-path=\"url(#clip900)\" style=\"stroke:#000000; stroke-linecap:round; stroke-linejoin:round; stroke-width:4; stroke-opacity:1; fill:none\" points=\"170.857,468.391 189.755,468.391 \"/>\n",
       "<polyline clip-path=\"url(#clip900)\" style=\"stroke:#000000; stroke-linecap:round; stroke-linejoin:round; stroke-width:4; stroke-opacity:1; fill:none\" points=\"170.857,140.308 189.755,140.308 \"/>\n",
       "<path clip-path=\"url(#clip900)\" d=\"M122.913 1438.44 Q119.302 1438.44 117.473 1442 Q115.668 1445.54 115.668 1452.67 Q115.668 1459.78 117.473 1463.34 Q119.302 1466.89 122.913 1466.89 Q126.547 1466.89 128.353 1463.34 Q130.182 1459.78 130.182 1452.67 Q130.182 1445.54 128.353 1442 Q126.547 1438.44 122.913 1438.44 M122.913 1434.73 Q128.723 1434.73 131.779 1439.34 Q134.857 1443.92 134.857 1452.67 Q134.857 1461.4 131.779 1466.01 Q128.723 1470.59 122.913 1470.59 Q117.103 1470.59 114.024 1466.01 Q110.969 1461.4 110.969 1452.67 Q110.969 1443.92 114.024 1439.34 Q117.103 1434.73 122.913 1434.73 Z\" fill=\"#000000\" fill-rule=\"nonzero\" fill-opacity=\"1\" /><path clip-path=\"url(#clip900)\" d=\"M82.7975 1107.28 L101.154 1107.28 L101.154 1111.21 L87.0799 1111.21 L87.0799 1119.68 Q88.0984 1119.34 89.1169 1119.17 Q90.1354 1118.99 91.1539 1118.99 Q96.941 1118.99 100.321 1122.16 Q103.7 1125.33 103.7 1130.75 Q103.7 1136.33 100.228 1139.43 Q96.7558 1142.51 90.4364 1142.51 Q88.2604 1142.51 85.9919 1142.14 Q83.7466 1141.77 81.3392 1141.03 L81.3392 1136.33 Q83.4225 1137.46 85.6447 1138.02 Q87.8669 1138.57 90.3438 1138.57 Q94.3484 1138.57 96.6863 1136.46 Q99.0243 1134.36 99.0243 1130.75 Q99.0243 1127.14 96.6863 1125.03 Q94.3484 1122.92 90.3438 1122.92 Q88.4688 1122.92 86.5938 1123.34 Q84.7419 1123.76 82.7975 1124.64 L82.7975 1107.28 Z\" fill=\"#000000\" fill-rule=\"nonzero\" fill-opacity=\"1\" /><path clip-path=\"url(#clip900)\" d=\"M122.913 1110.35 Q119.302 1110.35 117.473 1113.92 Q115.668 1117.46 115.668 1124.59 Q115.668 1131.7 117.473 1135.26 Q119.302 1138.8 122.913 1138.8 Q126.547 1138.8 128.353 1135.26 Q130.182 1131.7 130.182 1124.59 Q130.182 1117.46 128.353 1113.92 Q126.547 1110.35 122.913 1110.35 M122.913 1106.65 Q128.723 1106.65 131.779 1111.26 Q134.857 1115.84 134.857 1124.59 Q134.857 1133.32 131.779 1137.92 Q128.723 1142.51 122.913 1142.51 Q117.103 1142.51 114.024 1137.92 Q110.969 1133.32 110.969 1124.59 Q110.969 1115.84 114.024 1111.26 Q117.103 1106.65 122.913 1106.65 Z\" fill=\"#000000\" fill-rule=\"nonzero\" fill-opacity=\"1\" /><path clip-path=\"url(#clip900)\" d=\"M53.3995 809.818 L61.0384 809.818 L61.0384 783.452 L52.7282 785.119 L52.7282 780.86 L60.9921 779.193 L65.668 779.193 L65.668 809.818 L73.3068 809.818 L73.3068 813.753 L53.3995 813.753 L53.3995 809.818 Z\" fill=\"#000000\" fill-rule=\"nonzero\" fill-opacity=\"1\" /><path clip-path=\"url(#clip900)\" d=\"M92.7512 782.272 Q89.1401 782.272 87.3114 785.837 Q85.5058 789.378 85.5058 796.508 Q85.5058 803.614 87.3114 807.179 Q89.1401 810.721 92.7512 810.721 Q96.3854 810.721 98.1909 807.179 Q100.02 803.614 100.02 796.508 Q100.02 789.378 98.1909 785.837 Q96.3854 782.272 92.7512 782.272 M92.7512 778.568 Q98.5613 778.568 101.617 783.174 Q104.696 787.758 104.696 796.508 Q104.696 805.235 101.617 809.841 Q98.5613 814.424 92.7512 814.424 Q86.941 814.424 83.8623 809.841 Q80.8068 805.235 80.8068 796.508 Q80.8068 787.758 83.8623 783.174 Q86.941 778.568 92.7512 778.568 Z\" fill=\"#000000\" fill-rule=\"nonzero\" fill-opacity=\"1\" /><path clip-path=\"url(#clip900)\" d=\"M122.913 782.272 Q119.302 782.272 117.473 785.837 Q115.668 789.378 115.668 796.508 Q115.668 803.614 117.473 807.179 Q119.302 810.721 122.913 810.721 Q126.547 810.721 128.353 807.179 Q130.182 803.614 130.182 796.508 Q130.182 789.378 128.353 785.837 Q126.547 782.272 122.913 782.272 M122.913 778.568 Q128.723 778.568 131.779 783.174 Q134.857 787.758 134.857 796.508 Q134.857 805.235 131.779 809.841 Q128.723 814.424 122.913 814.424 Q117.103 814.424 114.024 809.841 Q110.969 805.235 110.969 796.508 Q110.969 787.758 114.024 783.174 Q117.103 778.568 122.913 778.568 Z\" fill=\"#000000\" fill-rule=\"nonzero\" fill-opacity=\"1\" /><path clip-path=\"url(#clip900)\" d=\"M53.3995 481.736 L61.0384 481.736 L61.0384 455.37 L52.7282 457.037 L52.7282 452.777 L60.9921 451.111 L65.668 451.111 L65.668 481.736 L73.3068 481.736 L73.3068 485.671 L53.3995 485.671 L53.3995 481.736 Z\" fill=\"#000000\" fill-rule=\"nonzero\" fill-opacity=\"1\" /><path clip-path=\"url(#clip900)\" d=\"M82.7975 451.111 L101.154 451.111 L101.154 455.046 L87.0799 455.046 L87.0799 463.518 Q88.0984 463.171 89.1169 463.009 Q90.1354 462.824 91.1539 462.824 Q96.941 462.824 100.321 465.995 Q103.7 469.166 103.7 474.583 Q103.7 480.162 100.228 483.263 Q96.7558 486.342 90.4364 486.342 Q88.2604 486.342 85.9919 485.972 Q83.7466 485.601 81.3392 484.861 L81.3392 480.162 Q83.4225 481.296 85.6447 481.851 Q87.8669 482.407 90.3438 482.407 Q94.3484 482.407 96.6863 480.3 Q99.0243 478.194 99.0243 474.583 Q99.0243 470.972 96.6863 468.865 Q94.3484 466.759 90.3438 466.759 Q88.4688 466.759 86.5938 467.175 Q84.7419 467.592 82.7975 468.472 L82.7975 451.111 Z\" fill=\"#000000\" fill-rule=\"nonzero\" fill-opacity=\"1\" /><path clip-path=\"url(#clip900)\" d=\"M122.913 454.189 Q119.302 454.189 117.473 457.754 Q115.668 461.296 115.668 468.425 Q115.668 475.532 117.473 479.097 Q119.302 482.638 122.913 482.638 Q126.547 482.638 128.353 479.097 Q130.182 475.532 130.182 468.425 Q130.182 461.296 128.353 457.754 Q126.547 454.189 122.913 454.189 M122.913 450.486 Q128.723 450.486 131.779 455.092 Q134.857 459.676 134.857 468.425 Q134.857 477.152 131.779 481.759 Q128.723 486.342 122.913 486.342 Q117.103 486.342 114.024 481.759 Q110.969 477.152 110.969 468.425 Q110.969 459.676 114.024 455.092 Q117.103 450.486 122.913 450.486 Z\" fill=\"#000000\" fill-rule=\"nonzero\" fill-opacity=\"1\" /><path clip-path=\"url(#clip900)\" d=\"M56.6171 153.653 L72.9365 153.653 L72.9365 157.588 L50.9921 157.588 L50.9921 153.653 Q53.6541 150.899 58.2375 146.269 Q62.8439 141.616 64.0245 140.274 Q66.2698 137.751 67.1494 136.015 Q68.0522 134.255 68.0522 132.565 Q68.0522 129.811 66.1078 128.075 Q64.1865 126.339 61.0847 126.339 Q58.8856 126.339 56.4319 127.103 Q54.0014 127.866 51.2236 129.417 L51.2236 124.695 Q54.0477 123.561 56.5014 122.982 Q58.955 122.403 60.9921 122.403 Q66.3624 122.403 69.5568 125.089 Q72.7513 127.774 72.7513 132.265 Q72.7513 134.394 71.9411 136.315 Q71.1541 138.214 69.0476 140.806 Q68.4689 141.477 65.367 144.695 Q62.2652 147.889 56.6171 153.653 Z\" fill=\"#000000\" fill-rule=\"nonzero\" fill-opacity=\"1\" /><path clip-path=\"url(#clip900)\" d=\"M92.7512 126.107 Q89.1401 126.107 87.3114 129.672 Q85.5058 133.214 85.5058 140.343 Q85.5058 147.45 87.3114 151.014 Q89.1401 154.556 92.7512 154.556 Q96.3854 154.556 98.1909 151.014 Q100.02 147.45 100.02 140.343 Q100.02 133.214 98.1909 129.672 Q96.3854 126.107 92.7512 126.107 M92.7512 122.403 Q98.5613 122.403 101.617 127.01 Q104.696 131.593 104.696 140.343 Q104.696 149.07 101.617 153.676 Q98.5613 158.26 92.7512 158.26 Q86.941 158.26 83.8623 153.676 Q80.8068 149.07 80.8068 140.343 Q80.8068 131.593 83.8623 127.01 Q86.941 122.403 92.7512 122.403 Z\" fill=\"#000000\" fill-rule=\"nonzero\" fill-opacity=\"1\" /><path clip-path=\"url(#clip900)\" d=\"M122.913 126.107 Q119.302 126.107 117.473 129.672 Q115.668 133.214 115.668 140.343 Q115.668 147.45 117.473 151.014 Q119.302 154.556 122.913 154.556 Q126.547 154.556 128.353 151.014 Q130.182 147.45 130.182 140.343 Q130.182 133.214 128.353 129.672 Q126.547 126.107 122.913 126.107 M122.913 122.403 Q128.723 122.403 131.779 127.01 Q134.857 131.593 134.857 140.343 Q134.857 149.07 131.779 153.676 Q128.723 158.26 122.913 158.26 Q117.103 158.26 114.024 153.676 Q110.969 149.07 110.969 140.343 Q110.969 131.593 114.024 127.01 Q117.103 122.403 122.913 122.403 Z\" fill=\"#000000\" fill-rule=\"nonzero\" fill-opacity=\"1\" /><polyline clip-path=\"url(#clip902)\" style=\"stroke:#009af9; stroke-linecap:round; stroke-linejoin:round; stroke-width:4; stroke-opacity:1; fill:none\" points=\"232.609,87.9763 281.619,211.215 330.628,214.742 379.637,220.612 428.647,229.246 477.656,241.336 526.666,258.618 575.675,284.717 624.684,321.31 673.694,362.144 722.703,396.04 771.713,425.423 820.722,454.17 869.731,481.701 918.741,500.584 967.75,516.75 1016.76,527.205 1065.77,530.983 1114.78,527.668 1163.79,525.808 1212.8,529.156 1261.81,533.176 1310.82,524.34 1359.83,514.116 1408.83,497.352 1457.84,476.509 1506.85,463.378 1555.86,458.02 1604.87,450.426 1653.88,440.541 1702.89,436.567 1751.9,436.425 1800.91,440.847 1849.92,446.026 1898.93,448.814 1947.94,450.259 1996.95,450.154 2045.96,450.064 2094.97,449.988 2143.98,449.923 2192.99,449.869 2241.99,449.823 2291,1445.72 \"/>\n",
       "<path clip-path=\"url(#clip900)\" d=\"M2009.41 198.898 L2280.03 198.898 L2280.03 95.2176 L2009.41 95.2176  Z\" fill=\"#ffffff\" fill-rule=\"evenodd\" fill-opacity=\"1\"/>\n",
       "<polyline clip-path=\"url(#clip900)\" style=\"stroke:#000000; stroke-linecap:round; stroke-linejoin:round; stroke-width:4; stroke-opacity:1; fill:none\" points=\"2009.41,198.898 2280.03,198.898 2280.03,95.2176 2009.41,95.2176 2009.41,198.898 \"/>\n",
       "<polyline clip-path=\"url(#clip900)\" style=\"stroke:#009af9; stroke-linecap:round; stroke-linejoin:round; stroke-width:4; stroke-opacity:1; fill:none\" points=\"2033.65,147.058 2179.11,147.058 \"/>\n",
       "<path clip-path=\"url(#clip900)\" d=\"M2217.19 166.745 Q2215.39 171.375 2213.68 172.787 Q2211.96 174.199 2209.09 174.199 L2205.69 174.199 L2205.69 170.634 L2208.19 170.634 Q2209.95 170.634 2210.92 169.8 Q2211.89 168.967 2213.07 165.865 L2213.84 163.921 L2203.35 138.412 L2207.87 138.412 L2215.97 158.689 L2224.07 138.412 L2228.58 138.412 L2217.19 166.745 Z\" fill=\"#000000\" fill-rule=\"nonzero\" fill-opacity=\"1\" /><path clip-path=\"url(#clip900)\" d=\"M2235.88 160.402 L2243.51 160.402 L2243.51 134.037 L2235.2 135.703 L2235.2 131.444 L2243.47 129.778 L2248.14 129.778 L2248.14 160.402 L2255.78 160.402 L2255.78 164.338 L2235.88 164.338 L2235.88 160.402 Z\" fill=\"#000000\" fill-rule=\"nonzero\" fill-opacity=\"1\" /></svg>\n"
      ]
     },
     "execution_count": 15,
     "metadata": {},
     "output_type": "execute_result"
    }
   ],
   "source": [
    "plot(newstate[:, 5, 5, 1])"
   ]
  },
  {
   "cell_type": "code",
   "execution_count": 19,
   "id": "ad92a798-8bca-44cd-bbfa-a7464d17d673",
   "metadata": {
    "tags": []
   },
   "outputs": [
    {
     "name": "stdout",
     "output_type": "stream",
     "text": [
      " Count  Overhead File                    Line Function\n",
      " =====  ======== ====                    ==== ========\n",
      "   840         0 In[11]                     2 rungekuttastep!(state::Array{Fl...\n",
      "   950         0 In[11]                     3 rungekuttastep!(state::Array{Fl...\n",
      "  1142         0 In[11]                     4 rungekuttastep!(state::Array{Fl...\n",
      "   880         0 In[11]                     5 rungekuttastep!(state::Array{Fl...\n",
      "   251         0 In[11]                     6 rungekuttastep!(state::Array{Fl...\n",
      "  4063         0 In[17]                     3 macro expansion\n",
      "   157         0 @Base/abstractarray.jl   793 similar\n",
      "   157         0 @Base/abstractarray.jl   794 similar\n",
      "     2         0 @Base/abstractarray.jl   840 similar\n",
      "     2         0 @Base/abstractarray.jl   841 similar\n",
      "    27         0 @Base/array.jl           925 getindex\n",
      "   387         0 @Base/array.jl           968 setindex!\n",
      "   157         0 @Base/array.jl           378 similar\n",
      "   261         0 @Base/arraymath.jl        21 *(A::Int64, B::Array{Float64, 4})\n",
      "   247         0 @Base/arraymath.jl        16 +(::Array{Float64, 4}, ::Array{...\n",
      "   159         0 @Base/boot.jl            471 Array\n",
      "     2         0 @Base/boot.jl            476 Array\n",
      "  4063         0 @Base/boot.jl            368 eval\n",
      "    27         0 @Base/broadcast.jl       636 _broadcast_getindex\n",
      "    27         0 @Base/broadcast.jl       642 _broadcast_getindex\n",
      "    58         0 @Base/broadcast.jl       643 _broadcast_getindex\n",
      "    58         0 @Base/broadcast.jl       670 _broadcast_getindex_evalf\n",
      "    27         0 @Base/broadcast.jl       666 _getindex\n",
      "    12         0 @Base/broadcast.jl       667 _getindex\n",
      "    10         0 @Base/broadcast.jl       591 _newindexer\n",
      "    13         0 @Base/broadcast.jl       592 _newindexer\n",
      "   508         0 @Base/broadcast.jl       849 broadcast_preserving_zero_d\n",
      "   508         0 @Base/broadcast.jl       885 copy\n",
      "   521         0 @Base/broadcast.jl       913 copyto!\n",
      "    13         0 @Base/broadcast.jl       957 copyto!\n",
      "   508         0 @Base/broadcast.jl       960 copyto!\n",
      "    13         0 @Base/broadcast.jl       637 extrude\n",
      "    85         0 @Base/broadcast.jl       597 getindex\n",
      "   472         0 @Base/broadcast.jl       961 macro expansion\n",
      "   508         0 @Base/broadcast.jl       860 materialize\n",
      "    15         0 @Base/broadcast.jl       868 materialize!\n",
      "    15         0 @Base/broadcast.jl       871 materialize!\n",
      "    13         0 @Base/broadcast.jl       586 newindexer\n",
      "    13         0 @Base/broadcast.jl       940 preprocess\n",
      "    13         0 @Base/broadcast.jl       941 preprocess\n",
      "    13         0 @Base/broadcast.jl       943 preprocess_args\n",
      "     7         0 @Base/broadcast.jl       944 preprocess_args\n",
      "    13         0 @Base/broadcast.jl       587 shapeindexer\n",
      "     2         0 @Base/broadcast.jl       211 similar\n",
      "     2         0 @Base/broadcast.jl       212 similar\n",
      "  4063         0 @Base/essentials.jl      729 #invokelatest#2\n",
      "  4063         0 @Base/essentials.jl      726 invokelatest\n",
      "    22         0 @Base/float.jl           385 *\n",
      "    36         0 @Base/float.jl           383 +\n",
      "    23         0 @Base/int.jl              87 +\n",
      "     6         0 @Base/int.jl              83 <\n",
      "  4063         0 @Base/loading.jl        1428 include_string(mapexpr::typeof(...\n",
      "     1         0 ...multidimensional.jl   429 __inc\n",
      "    27         0 ...multidimensional.jl   672 getindex\n",
      "     1         0 ...multidimensional.jl   404 iterate\n",
      "   387         0 ...multidimensional.jl   674 setindex!\n",
      "    13         0 @Base/operators.jl       282 !=\n",
      "    16         0 @Base/operators.jl       591 +\n",
      "     9         0 @Base/operators.jl       548 afoldl\n",
      "    14         0 @Base/promotion.jl       389 *\n",
      "    13         0 @Base/promotion.jl       477 ==\n",
      "     1         0 @Base/simdloop.jl          ? macro expansion\n",
      "    11         0 @Base/simdloop.jl         75 macro expansion\n",
      "   472         0 @Base/simdloop.jl         77 macro expansion\n",
      "    23         0 @Base/simdloop.jl         78 macro expansion\n",
      "     1         0 @Base/simdloop.jl         84 macro expansion\n",
      "  4063      4063 @Base/task.jl            484 (::IJulia.var\"#15#18\")()\n",
      "  4063         0 ...file/src/Profile.jl    27 top-level scope\n",
      "  4063         0 ...ia/src/eventloop.jl     8 eventloop(socket::ZMQ.Socket)\n",
      "  4063         0 .../execute_request.jl    67 execute_request(socket::ZMQ.Soc...\n",
      "  4063         0 .../SoftGlobalScope.jl    65 softscope_include_string(m::Mod...\n",
      "  3044         0 @BFM/src/BFM.jl           13 computefluxes\n",
      "   281         0 @BFM/src/BFM.jl           13 getsource!\n",
      "   157         0 @BFM/src/BFM.jl           82 run\n",
      "  3383         0 @BFM/src/BFM.jl           83 run\n",
      "    58         0 @BFM/src/BFM.jl           76 run!(source::Array{Float64, 4},...\n",
      "  3044         0 @BFM/src/BFM.jl           77 run!(source::Array{Float64, 4},...\n",
      "   281         0 @BFM/src/BFM.jl           78 run!(source::Array{Float64, 4},...\n",
      "    58         0 @BFM/src/BFM.jl           13 setstate\n",
      "Total snapshots: 4740 (100% utilization across all threads and tasks. Use the `groupby` kwarg to break down by thread and/or task)\n"
     ]
    }
   ],
   "source": [
    "Profile.print(format=:flat)"
   ]
  },
  {
   "cell_type": "code",
   "execution_count": null,
   "id": "b21bf727-1b49-46a6-8667-b2daf7fbee3f",
   "metadata": {},
   "outputs": [],
   "source": []
  }
 ],
 "metadata": {
  "kernelspec": {
   "display_name": "Julia 1.8.5",
   "language": "julia",
   "name": "julia-1.8"
  },
  "language_info": {
   "file_extension": ".jl",
   "mimetype": "application/julia",
   "name": "julia",
   "version": "1.8.5"
  }
 },
 "nbformat": 4,
 "nbformat_minor": 5
}
